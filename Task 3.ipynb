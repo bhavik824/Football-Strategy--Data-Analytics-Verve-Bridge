{
 "cells": [
  {
   "cell_type": "code",
   "execution_count": 22,
   "id": "925737db-b26a-4213-be17-21b01c7b17c0",
   "metadata": {},
   "outputs": [
    {
     "name": "stdout",
     "output_type": "stream",
     "text": [
      "Data Preview:\n",
      "    _unit_id  _golden _unit_state  _trusted_judgments _last_judgment_at  \\\n",
      "0  831005673    False   finalized                   5    11/20/15 20:20   \n",
      "1  831005674    False   finalized                   5    11/18/15 21:59   \n",
      "2  831005675    False   finalized                   5    11/20/15 22:43   \n",
      "3  831005676    False   finalized                   5     11/19/15 7:41   \n",
      "4  831005677    False   finalized                   5     11/21/15 8:01   \n",
      "\n",
      "           Situation  Confidence  \\\n",
      "0  kick a field goal      0.8092   \n",
      "1  kick a field goal      1.0000   \n",
      "2  kick a field goal      0.6211   \n",
      "3  kick a field goal      0.8073   \n",
      "4  kick a field goal      1.0000   \n",
      "\n",
      "                                     orig_antecedent antecedent_gold option1  \\\n",
      "0  It is first down and 10. The ball is on your o...         Unknown    punt   \n",
      "1  It is second down and inches. The ball is on y...         Unknown    punt   \n",
      "2  It is second down and inches. The ball is on y...         Unknown    punt   \n",
      "3  It is second down and inches. The ball is on y...         Unknown    punt   \n",
      "4  It is second down and inches. The ball is on y...         Unknown    punt   \n",
      "\n",
      "              option2 option3 option4      option5  \n",
      "0   kick a field goal     run    pass   kneel down  \n",
      "1   kick a field goal     run    pass   kneel down  \n",
      "2   kick a field goal     run    pass   kneel down  \n",
      "3   kick a field goal     run    pass   kneel down  \n",
      "4   kick a field goal     run    pass   kneel down  \n",
      "Data Info:\n",
      "<class 'pandas.core.frame.DataFrame'>\n",
      "RangeIndex: 3730 entries, 0 to 3729\n",
      "Data columns (total 14 columns):\n",
      " #   Column              Non-Null Count  Dtype  \n",
      "---  ------              --------------  -----  \n",
      " 0   _unit_id            3730 non-null   int64  \n",
      " 1   _golden             3730 non-null   bool   \n",
      " 2   _unit_state         3730 non-null   object \n",
      " 3   _trusted_judgments  3730 non-null   int64  \n",
      " 4   _last_judgment_at   3730 non-null   object \n",
      " 5   Situation           3730 non-null   object \n",
      " 6   Confidence          3730 non-null   float64\n",
      " 7   orig_antecedent     3730 non-null   object \n",
      " 8   antecedent_gold     3730 non-null   object \n",
      " 9   option1             3730 non-null   object \n",
      " 10  option2             3730 non-null   object \n",
      " 11  option3             3730 non-null   object \n",
      " 12  option4             3730 non-null   object \n",
      " 13  option5             3730 non-null   object \n",
      "dtypes: bool(1), float64(1), int64(2), object(10)\n",
      "memory usage: 382.6+ KB\n",
      "None\n",
      "Action Counts:\n",
      "               Action  Frequency\n",
      "0                punt       3730\n",
      "1   kick a field goal       3730\n",
      "2                 run       3730\n",
      "3                pass       3730\n",
      "4          kneel down       3730\n",
      "Average Confidence Levels:\n",
      "               Action  Average_Confidence\n",
      "0   kick a field goal            0.759839\n",
      "1          kneel down            0.759839\n",
      "2                pass            0.759839\n",
      "3                punt            0.759839\n",
      "4                 run            0.759839\n",
      "Top Situations:\n",
      "                  Situation              Action  Count\n",
      "0                      pass   kick a field goal   1339\n",
      "1                      pass          kneel down   1339\n",
      "2                      pass                 run   1339\n",
      "3                      pass                punt   1339\n",
      "4                      pass                pass   1339\n",
      "5                       run                punt   1152\n",
      "6                       run                pass   1152\n",
      "7                       run          kneel down   1152\n",
      "8                       run   kick a field goal   1152\n",
      "9                       run                 run   1152\n",
      "10        kick a field goal   kick a field goal    612\n",
      "11        kick a field goal                 run    612\n",
      "12        kick a field goal                punt    612\n",
      "13        kick a field goal                pass    612\n",
      "14        kick a field goal          kneel down    612\n",
      "15                     punt   kick a field goal    411\n",
      "16                     punt                punt    411\n",
      "17                     punt                 run    411\n",
      "18                     punt          kneel down    411\n",
      "19                     punt                pass    411\n",
      "20  Don't know / it depends                pass    130\n",
      "21  Don't know / it depends                punt    130\n",
      "22  Don't know / it depends                 run    130\n",
      "23  Don't know / it depends   kick a field goal    130\n",
      "24  Don't know / it depends          kneel down    130\n",
      "25               kneel down          kneel down     86\n",
      "26               kneel down                 run     86\n",
      "27               kneel down                punt     86\n",
      "28               kneel down                pass     86\n",
      "29               kneel down   kick a field goal     86\n"
     ]
    }
   ],
   "source": [
    "import pandas as pd\n",
    "import matplotlib.pyplot as plt\n",
    "import seaborn as sns\n",
    "from datetime import datetime\n",
    "\n",
    "# Load the CSV file\n",
    "file_path = 'Football Data.csv'\n",
    "football_data = pd.read_csv(file_path)\n",
    "\n",
    "# Data Cleaning and Preparation\n",
    "football_data.rename(columns={'antecedent': 'Situation', 'antecedent:confidence': 'Confidence'}, inplace=True)\n",
    "football_data.fillna('Unknown', inplace=True)\n",
    "\n",
    "# Verify data structure and contents\n",
    "print(\"Data Preview:\")\n",
    "print(football_data.head())\n",
    "print(\"Data Info:\")\n",
    "print(football_data.info())\n",
    "\n",
    "# Calculate the frequency of each action\n",
    "action_columns = ['option1', 'option2', 'option3', 'option4', 'option5']\n",
    "action_counts = football_data[action_columns].melt().value.value_counts().reset_index()\n",
    "action_counts.columns = ['Action', 'Frequency']\n",
    "\n",
    "# Verify action counts\n",
    "print(\"Action Counts:\")\n",
    "print(action_counts)\n",
    "\n",
    "# Calculate the average confidence level for each action\n",
    "confidence_per_action = football_data.melt(id_vars=['Confidence'], value_vars=action_columns)\n",
    "confidence_per_action.columns = ['Confidence', 'variable', 'Action']  # rename columns for clarity\n",
    "average_confidence = confidence_per_action.groupby('Action')['Confidence'].mean().reset_index()\n",
    "average_confidence.columns = ['Action', 'Average_Confidence']\n",
    "\n",
    "# Verify average confidence\n",
    "print(\"Average Confidence Levels:\")\n",
    "print(average_confidence)\n",
    "\n",
    "# Identify the top situations leading to each action\n",
    "top_situations = football_data.melt(id_vars=['Situation'], value_vars=action_columns)\n",
    "top_situations.columns = ['Situation', 'variable', 'Action']  # rename columns for clarity\n",
    "top_situations_count = top_situations.value_counts(['Situation', 'Action']).reset_index(name='Count')\n",
    "\n",
    "# Verify top situations\n",
    "print(\"Top Situations:\")\n",
    "print(top_situations_count)\n",
    "\n",
    "# Save the transformed data to CSV files for import into Power BI\n",
    "action_counts.to_csv('Action_Frequency.csv', index=False)\n",
    "average_confidence.to_csv('Average_Confidence.csv', index=False)\n",
    "top_situations_count.to_csv('Top_Situations.csv', index=False)"
   ]
  },
  {
   "cell_type": "code",
   "execution_count": 13,
   "id": "14e13856-115a-44f3-a6a5-39dc9b599abc",
   "metadata": {},
   "outputs": [
    {
     "name": "stdout",
     "output_type": "stream",
     "text": [
      "Action Frequency:\n",
      "               Action  Frequency\n",
      "0                punt       3730\n",
      "1   kick a field goal       3730\n",
      "2                 run       3730\n",
      "3                pass       3730\n",
      "4          kneel down       3730\n"
     ]
    }
   ],
   "source": [
    "# Display the head of each transformed dataframe to ensure correctness\n",
    "print(\"Action Frequency:\")\n",
    "print(action_counts.head())"
   ]
  },
  {
   "cell_type": "code",
   "execution_count": 11,
   "id": "39eaa367-4e93-48cc-8f61-002d30b95142",
   "metadata": {},
   "outputs": [
    {
     "name": "stdout",
     "output_type": "stream",
     "text": [
      "Average Confidence:\n",
      "               Action  Average_Confidence\n",
      "0   kick a field goal            0.759839\n",
      "1          kneel down            0.759839\n",
      "2                pass            0.759839\n",
      "3                punt            0.759839\n",
      "4                 run            0.759839\n"
     ]
    }
   ],
   "source": [
    "print(\"Average Confidence:\")\n",
    "print(average_confidence.head())"
   ]
  },
  {
   "cell_type": "code",
   "execution_count": 7,
   "id": "5aa830aa-2dc2-406b-b59a-6f446ff52dcb",
   "metadata": {},
   "outputs": [
    {
     "name": "stdout",
     "output_type": "stream",
     "text": [
      "Top Situations:\n",
      "  Situation              Action  Count\n",
      "0      pass   kick a field goal   1339\n",
      "1      pass          kneel down   1339\n",
      "2      pass                 run   1339\n",
      "3      pass                punt   1339\n",
      "4      pass                pass   1339\n"
     ]
    }
   ],
   "source": [
    "print(\"Top Situations:\")\n",
    "print(top_situations_count.head())"
   ]
  },
  {
   "cell_type": "code",
   "execution_count": 24,
   "id": "c953f549-cc19-459f-83ca-1d59d842e377",
   "metadata": {},
   "outputs": [
    {
     "name": "stdout",
     "output_type": "stream",
     "text": [
      "           _unit_id  _trusted_judgments   Confidence\n",
      "count  3.730000e+03         3730.000000  3730.000000\n",
      "mean   8.310115e+08            6.110992     0.759839\n",
      "std    4.918375e+04           13.814715     0.190108\n",
      "min    8.310057e+08            5.000000     0.210700\n",
      "25%    8.310066e+08            5.000000     0.603600\n",
      "50%    8.310075e+08            5.000000     0.798700\n",
      "75%    8.310085e+08            5.000000     1.000000\n",
      "max    8.316283e+08          187.000000     1.000000\n"
     ]
    },
    {
     "data": {
      "image/png": "[encoded data removed]",
      "text/plain": [
       "<Figure size 1500x1000 with 4 Axes>"
      ]
     },
     "metadata": {},
     "output_type": "display_data"
    }
   ],
   "source": [
    "print(football_data.describe())\n",
    "football_data.hist(bins=30, figsize=(15, 10))\n",
    "plt.show()"
   ]
  },
  {
   "cell_type": "raw",
   "id": "aab2e523-2028-403f-9d6f-7d1c5241d04b",
   "metadata": {},
   "source": []
  }
 ],
 "metadata": {
  "kernelspec": {
   "display_name": "Python 3 (ipykernel)",
   "language": "python",
   "name": "python3"
  },
  "language_info": {
   "codemirror_mode": {
    "name": "ipython",
    "version": 3
   },
   "file_extension": ".py",
   "mimetype": "text/x-python",
   "name": "python",
   "nbconvert_exporter": "python",
   "pygments_lexer": "ipython3",
   "version": "3.11.5"
  }
 },
 "nbformat": 4,
 "nbformat_minor": 5
}
